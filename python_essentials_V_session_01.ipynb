{
 "cells": [
  {
   "cell_type": "markdown",
   "id": "8eba06b9",
   "metadata": {},
   "source": [
    "# Python Essentials for Water\n",
    "\n",
    "Python has become part of the toolbox of scientists and engineers, and has numerous applications in hydrology. By mastering Python, you are able to extend your data analysis and modelling capabilities far beyond what is possible with spreadsheets, GIS platforms and other standard software.\n",
    "\n",
    "## About Python\n",
    "\n",
    "Python is an open source, object-oriented programming language used for both standalone programs and scripting applications. It was initially developed by Guido van Rossum, who named it after Monty Python's Flying Circus. Python is popular because it is one of the easiest programming languages to learn, but also because it has many extensions that make it suitable for an enormous range of applications. Other advantages are that it is open-source and runs on all major operating systems.\n",
    "\n",
    "Python is an interpreted language, which means that it is not necessary to compile code into binary machine language before a program can be ran. Instead, the commands are executed in an interpreter, which may be embedded in a web browser, as is the case when using Jupyter Notebooks.\n",
    "\n",
    "There are a few things that are worth mentioning upfront and these must be remembered at all times. First of all, Python is case sensitive, so a variable with the name `avariable` is not the same as `Avariable` or `AVARIABLE`. Second, systematic indentation is a feature of the Python language (this will be explained below). Third, Python starts counting at zero, not at one. This sometimes confuses people but it is not that different from the way we count time: The first hour of a day is also numbered zero!\n",
    "\n",
    "## Installation\n",
    "\n",
    "Python consists of the core language and comes with a comprehensive standard library. In addition, there are many third-party packages (or libraries). Scientists and engineers typically choose the Anaconda Python distribution because it includes many of the most useful package already.\n",
    "\n",
    "Another advantage is that the packages are easy to update, and that Anaconda will usually install without major hassles. To install Anaconda go to the website https://www.anaconda.com/products/individual and download the installer for your operating system. Once downloaded, double-click on the installer and follow the instructions.\n",
    "\n",
    "## Jupyter Notebooks\n",
    "\n",
    "Jupyter Notebooks (or simply 'notebooks') provide a way to execute Python code in a web browser. As you can see below,  notebooks contain cells, which either have text (called Markdown) or code. The code cells can easily be recognized as they are preceded by `In [ ]:` or `In [n]:` where `n` is a counter. To execute a code cell, position your cursor in it, hold the [shift] key and hit [enter]. The output, preceded by `Out [n]:` (where `n` is a number), then appears below the code cell."
   ]
  },
  {
   "cell_type": "markdown",
   "id": "e0feb847",
   "metadata": {},
   "source": [
    "## Session 1\n",
    "\n",
    "### Using Python as a calculator\n",
    "First, let’s see how you can use Python as a calculator (the extra spaces are added to make the\n",
    "code more readable)"
   ]
  },
  {
   "cell_type": "code",
   "execution_count": null,
   "id": "1a41519a",
   "metadata": {},
   "outputs": [],
   "source": [
    "2 * 3"
   ]
  },
  {
   "cell_type": "markdown",
   "id": "17923e4c",
   "metadata": {},
   "source": [
    "The underscore returns the result of the last operation"
   ]
  },
  {
   "cell_type": "code",
   "execution_count": null,
   "id": "d8c5e675",
   "metadata": {},
   "outputs": [],
   "source": [
    "_"
   ]
  },
  {
   "cell_type": "markdown",
   "id": "9fa2ff22",
   "metadata": {},
   "source": [
    "The `**` operator raises a number to the power"
   ]
  },
  {
   "cell_type": "code",
   "execution_count": null,
   "id": "14d3f4bf",
   "metadata": {},
   "outputs": [],
   "source": [
    "2 ** 3"
   ]
  },
  {
   "cell_type": "markdown",
   "id": "0f32a1cb",
   "metadata": {},
   "source": [
    "***Exercise 1.1***: Calculate the square root of 2 (use the empty code cell below for typing your answer)"
   ]
  },
  {
   "cell_type": "code",
   "execution_count": null,
   "id": "fb023fac",
   "metadata": {},
   "outputs": [],
   "source": [
    "# Type your code here (note that the # indicates a comment in Python)\n"
   ]
  },
  {
   "cell_type": "markdown",
   "id": "e2eeaed5",
   "metadata": {},
   "source": [
    "Because `**` takes precendence over a negative sign, parentheses should be used to obtain the right\n",
    "outcome when exponentiating negative numbers. For example $−2^4 = 16$, which should not be\n",
    "entered as"
   ]
  },
  {
   "cell_type": "code",
   "execution_count": null,
   "id": "4618b687",
   "metadata": {},
   "outputs": [],
   "source": [
    "-2 ** 4"
   ]
  },
  {
   "cell_type": "markdown",
   "id": "a7ba9b7d",
   "metadata": {},
   "source": [
    "but as"
   ]
  },
  {
   "cell_type": "code",
   "execution_count": null,
   "id": "b953df8b",
   "metadata": {},
   "outputs": [],
   "source": [
    "(-2) ** 4"
   ]
  },
  {
   "cell_type": "markdown",
   "id": "a463774b",
   "metadata": {},
   "source": [
    "The percentage sign `%` can be used as an operand to give the remainder of a division"
   ]
  },
  {
   "cell_type": "code",
   "execution_count": null,
   "id": "2f316607",
   "metadata": {},
   "outputs": [],
   "source": [
    "19 % 5"
   ]
  },
  {
   "cell_type": "markdown",
   "id": "d1d5f0a0",
   "metadata": {},
   "source": [
    "and also useful may be"
   ]
  },
  {
   "cell_type": "code",
   "execution_count": null,
   "id": "afe02027",
   "metadata": {},
   "outputs": [],
   "source": [
    "19 // 5"
   ]
  },
  {
   "cell_type": "markdown",
   "id": "7faa527c",
   "metadata": {},
   "source": [
    "which is the number of times 5 ﬁts into 19."
   ]
  },
  {
   "cell_type": "markdown",
   "id": "3fff1334",
   "metadata": {},
   "source": [
    "### Variables\n",
    "\n",
    "Unlike some other programming languages, the declaration of a variable in Python is very easy"
   ]
  },
  {
   "cell_type": "code",
   "execution_count": null,
   "id": "bab229c7",
   "metadata": {},
   "outputs": [],
   "source": [
    "a = 2"
   ]
  },
  {
   "cell_type": "markdown",
   "id": "8ca88588",
   "metadata": {},
   "source": [
    "Variable names cannot have spaces, and they can not start with a number. Remember that variable names are case sensitive. Some words are already reserved by Python itself and can't be used as variable names (for example `and`, `True`, `False`, and `lambda`).\n",
    "\n",
    "Common variable types in programming are \n",
    " - integers (whole numbers), \n",
    " - ﬂoating points (number with a fractional value), \n",
    " - string (represents text),\n",
    " - boolean (true or false)\n",
    " - complex numbers\n",
    "\n",
    "There is no need to specify the type of the variable. Python ﬁgures out the variable type itself.\n",
    "This doesn’t mean that you can be completely oblivious to the diﬀerent variable types. Errors may\n",
    "occur if you try to assign one variable type to another, or when you try to perform an operation\n",
    "with two diﬀerent variable types. For example, observe what happens when you try to add two\n",
    "plus two in the following way"
   ]
  },
  {
   "cell_type": "code",
   "execution_count": null,
   "id": "2742aa28",
   "metadata": {},
   "outputs": [],
   "source": [
    "c = 'two'\n",
    "c + 2"
   ]
  },
  {
   "cell_type": "markdown",
   "id": "f50d3d88",
   "metadata": {},
   "source": [
    "When you type a variable name in the last line of a code cell, Python writes its value to the screen"
   ]
  },
  {
   "cell_type": "code",
   "execution_count": null,
   "id": "b0443322",
   "metadata": {},
   "outputs": [],
   "source": [
    "a"
   ]
  },
  {
   "cell_type": "markdown",
   "id": "18d727c8",
   "metadata": {},
   "source": [
    "If you want to print a variable to the screen at any given line in the code cell, use `print`"
   ]
  },
  {
   "cell_type": "code",
   "execution_count": null,
   "id": "703799e1",
   "metadata": {},
   "outputs": [],
   "source": [
    "print(a)"
   ]
  },
  {
   "cell_type": "markdown",
   "id": "2ab90380",
   "metadata": {},
   "source": [
    "A single value can be assigned to multiple variables simultaneously"
   ]
  },
  {
   "cell_type": "code",
   "execution_count": null,
   "id": "a2509e09",
   "metadata": {},
   "outputs": [],
   "source": [
    "i = j = k = 2"
   ]
  },
  {
   "cell_type": "markdown",
   "id": "247fca72",
   "metadata": {},
   "source": [
    "or multiple values (of diﬀerent types) can be assigned to multiple variables"
   ]
  },
  {
   "cell_type": "code",
   "execution_count": null,
   "id": "3765eafd",
   "metadata": {},
   "outputs": [],
   "source": [
    "i, j, k = 2, 4, 'six'\n",
    "k"
   ]
  },
  {
   "cell_type": "markdown",
   "id": "084ef627",
   "metadata": {},
   "source": [
    "The arithmetic operators from the previous section can be used with variables in the same way as\n",
    "with numbers"
   ]
  },
  {
   "cell_type": "code",
   "execution_count": null,
   "id": "70b61240",
   "metadata": {},
   "outputs": [],
   "source": [
    "b = 3\n",
    "a * b"
   ]
  },
  {
   "cell_type": "markdown",
   "id": "8573fd45",
   "metadata": {},
   "source": [
    "instead of displaying the result on the screen, it can be stored in a new variable"
   ]
  },
  {
   "cell_type": "code",
   "execution_count": null,
   "id": "f29376ef",
   "metadata": {},
   "outputs": [],
   "source": [
    "c = a * b\n",
    "c"
   ]
  },
  {
   "cell_type": "markdown",
   "id": "753523bf",
   "metadata": {},
   "source": [
    "or, just like in C, immediately assigned to the variable itself"
   ]
  },
  {
   "cell_type": "code",
   "execution_count": null,
   "id": "96b029e4",
   "metadata": {},
   "outputs": [],
   "source": [
    "a *= 3\n",
    "a"
   ]
  },
  {
   "cell_type": "markdown",
   "id": "da15c068",
   "metadata": {},
   "source": [
    "If needed, variables can be converted from one data type to another. For example, to convert an\n",
    "`integer` to a `float`"
   ]
  },
  {
   "cell_type": "code",
   "execution_count": null,
   "id": "2911a337",
   "metadata": {},
   "outputs": [],
   "source": [
    "a = 2\n",
    "b = float(a)\n",
    "b"
   ]
  },
  {
   "cell_type": "markdown",
   "id": "fd70de2e",
   "metadata": {},
   "source": [
    "In general, an operation with variables of the same type results in a variable of the same type. For example, multiplication of two integers results in an integer. The only exception is that in Python 3 (but not in Python 2) the division of two integers automatically gives a float, even if there is no remainder."
   ]
  },
  {
   "cell_type": "code",
   "execution_count": null,
   "id": "12316bee",
   "metadata": {},
   "outputs": [],
   "source": [
    "8 / 4"
   ]
  },
  {
   "cell_type": "markdown",
   "id": "505a180f",
   "metadata": {},
   "source": [
    "***Exercise 1.2***: Create the code to convert the temperature in Celsius ($T_c$, for example 35 degrees) to Fahrenheit ($T_f$). The formula for this conversion is $T_f = T_c \\times 9 / 5 + 32$."
   ]
  },
  {
   "cell_type": "code",
   "execution_count": null,
   "id": "0c392b13",
   "metadata": {},
   "outputs": [],
   "source": [
    "Tc = 35\n",
    "# Type your code to convert from Celsius to Fahrenheit in this code cell"
   ]
  },
  {
   "cell_type": "markdown",
   "id": "66ab9541",
   "metadata": {},
   "source": [
    "### Strings\n",
    "\n",
    "Python provides many options for manipulating strings. Strings are created by characters enclosed in either single  or double quotes. Both are fine as long as they are not mixed."
   ]
  },
  {
   "cell_type": "code",
   "execution_count": null,
   "id": "14534d80",
   "metadata": {},
   "outputs": [],
   "source": [
    "my_string = \"Hello world!\"\n",
    "print(my_string)"
   ]
  },
  {
   "cell_type": "markdown",
   "id": "c7821a0f",
   "metadata": {
    "hideCode": false,
    "hidePrompt": false
   },
   "source": [
    "Strings are a special variable class in Python, which means that a string object has several functions that can be accessed by typing a dot directly behind it and typing the name of the function. For example, the `find` function searches for a substring within the string. It returns the zero-based index of the starting position of the substring, which is 6 (the 7th character!) in 'Hello world!'"
   ]
  },
  {
   "cell_type": "code",
   "execution_count": null,
   "id": "da9d4339",
   "metadata": {
    "hideCode": false,
    "hidePrompt": false
   },
   "outputs": [],
   "source": [
    "my_string.find('world')"
   ]
  },
  {
   "cell_type": "markdown",
   "id": "962f3e49",
   "metadata": {
    "hideCode": false,
    "hidePrompt": false
   },
   "source": [
    "If the substring does not exist, the function returns `-1`. The function is case sensitive, so it will not be able to find 'WORLD'"
   ]
  },
  {
   "cell_type": "code",
   "execution_count": null,
   "id": "3aeb9f3f",
   "metadata": {
    "hideCode": false,
    "hidePrompt": false
   },
   "outputs": [],
   "source": [
    "my_string.find('WORLD')"
   ]
  },
  {
   "cell_type": "markdown",
   "id": "6a1b52dd",
   "metadata": {},
   "source": [
    "A substring can be replaced by another string with the replace function"
   ]
  },
  {
   "cell_type": "code",
   "execution_count": null,
   "id": "0750aa2f",
   "metadata": {},
   "outputs": [],
   "source": [
    "my_string = my_string.replace('world', 'WORLD')\n",
    "print(my_string)"
   ]
  },
  {
   "cell_type": "markdown",
   "id": "a9233747",
   "metadata": {
    "hideCode": false,
    "hidePrompt": false
   },
   "source": [
    "The `upper` function converts all the string characters to uppercase. This function takes no arguments, but typing parentheses behind the function name is nonetheless required. This is the way to let Python know that the function has to be executed (omitting the parentheses would not generate an error though: it would return the function's memory address, but other than that, nothing would actually happen)."
   ]
  },
  {
   "cell_type": "code",
   "execution_count": null,
   "id": "8c832638",
   "metadata": {
    "hideCode": false,
    "hidePrompt": false
   },
   "outputs": [],
   "source": [
    "my_string = my_string.upper()\n",
    "print('Turned into uppercase:', my_string)"
   ]
  },
  {
   "cell_type": "markdown",
   "id": "b2f6f9b6",
   "metadata": {
    "hideCode": false,
    "hidePrompt": false
   },
   "source": [
    "### Lists\n",
    "\n",
    "A `list` is a Python data structure that contains a collection of data that can be of any type. It is defined by typing the elements of the list separated by commas and enclosed by square brackets. The following list contains a string, an integer, and a float"
   ]
  },
  {
   "cell_type": "code",
   "execution_count": null,
   "id": "b20a9b41",
   "metadata": {
    "hideCode": false,
    "hidePrompt": false
   },
   "outputs": [],
   "source": [
    "alist = ['A string', 0, 2.3]\n",
    "print(alist)"
   ]
  },
  {
   "cell_type": "markdown",
   "id": "17cafd6e",
   "metadata": {
    "hideCode": false,
    "hidePrompt": false
   },
   "source": [
    "Individual items in a list can be accessed by specifying their indices in the list between square brackets. Selecting elements like this is called indexing or slicing. Remember that Python counts using a zero-based system, so the first element in the list has index 0. A range of items can be selected by specifying the first and last index seperated by a colon, as demonstrated in the following example"
   ]
  },
  {
   "cell_type": "code",
   "execution_count": null,
   "id": "01963991",
   "metadata": {
    "hideCode": false,
    "hidePrompt": false
   },
   "outputs": [],
   "source": [
    "print(alist[0])\n",
    "print(alist[0:2]) # Returns items 0 and 1, but not item 2"
   ]
  },
  {
   "cell_type": "markdown",
   "id": "f7b76b35",
   "metadata": {
    "hideCode": false,
    "hidePrompt": false
   },
   "source": [
    "Note that the second line only returns items 0 and 1, but not item 2. This is because of the way counting works in Python: It starts at zero and then stops *before* the last number is reached. \n",
    "\n",
    "The first item in `alist` can be changed as follows"
   ]
  },
  {
   "cell_type": "code",
   "execution_count": null,
   "id": "74f432c1",
   "metadata": {
    "hideCode": false,
    "hidePrompt": false
   },
   "outputs": [],
   "source": [
    "alist[0] = 'Another string'\n",
    "print(alist)"
   ]
  },
  {
   "cell_type": "markdown",
   "id": "43b7b360",
   "metadata": {
    "hideCode": false,
    "hidePrompt": false
   },
   "source": [
    "Items can also be appended to the list. For example, a boolean variable can be added to `alist`"
   ]
  },
  {
   "cell_type": "code",
   "execution_count": null,
   "id": "e888a612",
   "metadata": {
    "hideCode": false,
    "hidePrompt": false
   },
   "outputs": [],
   "source": [
    "alist.append(True)\n",
    "print(alist)"
   ]
  },
  {
   "cell_type": "markdown",
   "id": "3f817d01",
   "metadata": {
    "hideCode": false,
    "hidePrompt": false
   },
   "source": [
    " The `+` operator can be used to combine two lists"
   ]
  },
  {
   "cell_type": "code",
   "execution_count": null,
   "id": "b06136b3",
   "metadata": {
    "hideCode": false,
    "hidePrompt": false
   },
   "outputs": [],
   "source": [
    "a = [1, 2, 3]\n",
    "b = [5, 10, 15]\n",
    "print(a + b)"
   ]
  },
  {
   "cell_type": "markdown",
   "id": "627843cd",
   "metadata": {
    "hideCode": false,
    "hidePrompt": false
   },
   "source": [
    "It is important to note that the use of the `+` sign does not imply an arithmetic operation. The numbers in the lists are not added. If the intent is to add the numbers, the lists must first be converted to `arrays`, which are discussed later on. "
   ]
  },
  {
   "cell_type": "markdown",
   "id": "2eaa6a44",
   "metadata": {
    "hideCode": false,
    "hidePrompt": false
   },
   "source": [
    "A `list` is one of the several basic `sequence` types in Python. Another one is the `tuple`, which, like a `list`, is a sequence of items, but it is defined by enclosing the elements between parentheses rather than square brackets. The difference between a `list` and a `tuple` is that elements in a `tuple` can not be changed after it has been defined."
   ]
  },
  {
   "cell_type": "markdown",
   "id": "fb379025",
   "metadata": {
    "hideCode": false,
    "hidePrompt": false
   },
   "source": [
    "The following code cell defines a `tuple`. The attempt to change its first element results in a `TypeError`"
   ]
  },
  {
   "cell_type": "code",
   "execution_count": null,
   "id": "25d75bad",
   "metadata": {
    "hideCode": false,
    "hidePrompt": false
   },
   "outputs": [],
   "source": [
    "atuple = ('Darcy', 0, 2.3, [1,2,3])\n",
    "print(atuple)\n",
    "\n",
    "atuple[0] = 'Dupuit'"
   ]
  },
  {
   "cell_type": "markdown",
   "id": "1b5f1bfa",
   "metadata": {
    "hideCode": false,
    "hidePrompt": false
   },
   "source": [
    "### More on strings\n",
    "\n",
    "Strings are in fact a special class of lists. This means that just like lists, multiple strings can be combined with the `+` operator"
   ]
  },
  {
   "cell_type": "code",
   "execution_count": null,
   "id": "c49d703d",
   "metadata": {
    "hideCode": false,
    "hidePrompt": false
   },
   "outputs": [],
   "source": [
    "my_string = 'Hello' + ' ' + 'world!'\n",
    "print(my_string)"
   ]
  },
  {
   "cell_type": "markdown",
   "id": "f7d98689",
   "metadata": {
    "hideCode": false,
    "hidePrompt": false
   },
   "source": [
    "Strings can be sliced in the same way as lists"
   ]
  },
  {
   "cell_type": "code",
   "execution_count": null,
   "id": "3467cc68",
   "metadata": {
    "hideCode": false,
    "hidePrompt": false
   },
   "outputs": [],
   "source": [
    "print(my_string[0])\n",
    "print(my_string[4])\n",
    "print(my_string[0:5])"
   ]
  },
  {
   "cell_type": "markdown",
   "id": "0ab91640",
   "metadata": {
    "hideCode": false,
    "hidePrompt": false
   },
   "source": [
    "***Exercise 1.3***: Try multiplying a string with an integer and observe what happens."
   ]
  },
  {
   "cell_type": "code",
   "execution_count": null,
   "id": "eb92e474",
   "metadata": {},
   "outputs": [],
   "source": [
    "# Type your code here"
   ]
  },
  {
   "cell_type": "markdown",
   "id": "6cb1f849",
   "metadata": {},
   "source": [
    "### Dictionaries\n",
    "\n",
    "Another handy data structure in Python is a `dictionary`. Just like a `list` a `dictionary` is a collection of objects, but instead of being accessed by an index, the elements of a `dictionary` are accessible by `keys`. A `dictionary` is defined in the following way"
   ]
  },
  {
   "cell_type": "code",
   "execution_count": null,
   "id": "21d6b30a",
   "metadata": {},
   "outputs": [],
   "source": [
    "river_lengths = {'Rhine': 1233, 'Nile': 6690, 'Congo': 4371, 'Ganges': 2510}"
   ]
  },
  {
   "cell_type": "markdown",
   "id": "e5525c6a",
   "metadata": {},
   "source": [
    "As you can see, the dictionary elements are enclosed by accolades. For each item, the river name is given as the `key` and the river length is the corresponding `value`. The value can be accessed by providing a valid key between square brackets that directly follow the dictionary name, as in the following example"
   ]
  },
  {
   "cell_type": "code",
   "execution_count": null,
   "id": "c2bf019b",
   "metadata": {},
   "outputs": [],
   "source": [
    "print(f\"The length of the Congo river is {river_lengths['Congo']} km\")\n",
    "print(\"The length of the Congo river is\", river_lengths['Congo'], \"km\")"
   ]
  },
  {
   "cell_type": "markdown",
   "id": "577af29d",
   "metadata": {
    "hideCode": false,
    "hidePrompt": false
   },
   "source": [
    "### Loops\n",
    "\n",
    "A `for` loop is a set of programming commands that is executed several times. Here is an example, in which the variable `item` takes on the value of each element in the list `alist` during the for loop. The second, indented line tells Python to print the value as well as the variable type of `item` for each step of the loop"
   ]
  },
  {
   "cell_type": "code",
   "execution_count": null,
   "id": "a83df2e3",
   "metadata": {
    "hideCode": false,
    "hidePrompt": false
   },
   "outputs": [],
   "source": [
    "for item in alist:\n",
    "    print(item, 'has type', type(item))\n",
    "    print(\"This message will be displayed 4 times\")\n",
    "\n",
    "print(\"This message will only be displayed once\")"
   ]
  },
  {
   "cell_type": "markdown",
   "id": "2d055597",
   "metadata": {
    "hideCode": false,
    "hidePrompt": false
   },
   "source": [
    "The short code example above shows that there are two syntax rules for defining a `for` loop. First, a colon (`:`) must always terminate the line that starts with `for`, and second, the lines of code that is part of the loop must all be indented. \n",
    "\n",
    "There is no explicit command that marks the end of the code that must be executed during a loop. Instead, Python infers this based on the indentation. Proper indentation is thus essential as it controls the code behaviour. This helps tremendously in creating neat, readable scripts. The length of the indentation is arbitrary, as long as it remains the same; the default is four spaces so use that.\n",
    "\n",
    "Looping over the elements of a list is a very pythonic way of doing things. Programmers using other languages may be used to loops that get executed a certain number of times. This is possible too and is typically done using the `range` command. In the following example `range(4)` creates 4 numbers, from 0 up to (but not including) 4"
   ]
  },
  {
   "cell_type": "code",
   "execution_count": null,
   "id": "41d22618",
   "metadata": {
    "hideCode": false,
    "hidePrompt": false
   },
   "outputs": [],
   "source": [
    "for i in range(4):\n",
    "    print(f'Step {i}')"
   ]
  },
  {
   "cell_type": "markdown",
   "id": "f3591589",
   "metadata": {
    "hideCode": false,
    "hidePrompt": false
   },
   "source": [
    "The `range(n)` command creates a sequence with `n` numbers to iterate over, starting at 0. \n",
    "`range` can optionally be defined by specifying a starting value (the default is zero), a step (the default increment is 1). So a `range` starting at `-3` and stopping before the counter reaches `+7` with steps of 2 is defined as"
   ]
  },
  {
   "cell_type": "code",
   "execution_count": null,
   "id": "6ecaf738",
   "metadata": {
    "hideCode": false,
    "hidePrompt": false
   },
   "outputs": [],
   "source": [
    "my_range = range(-3, 7, 2)"
   ]
  },
  {
   "cell_type": "markdown",
   "id": "dc99176a",
   "metadata": {
    "hideCode": false,
    "hidePrompt": false
   },
   "source": [
    "Python also provides the `enumerate` function that generates an index counter as it loops through a list. This can be useful for example when the corresponding items in another list have to be modified during the loop. In the following example, the strings in the list `names` are combined to full names using the strings in the list `last_names`. By including `enumerate()` in the line that starts the `for` loop, a counter `i` is created so that each time the `for` loop steps to the next element in the list `last_names`, `i` is incremented by 1. Notice the syntax: the counter `i` is a user-defined variable name that precedes the name that is used within the `for` loop for the active element in the `list` (`last_name` in this case)."
   ]
  },
  {
   "cell_type": "code",
   "execution_count": null,
   "id": "2a9d619e",
   "metadata": {
    "hideCode": false,
    "hidePrompt": false
   },
   "outputs": [],
   "source": [
    "first_names = [\"Henry\", \"Willem\", \"Alexander\"]\n",
    "last_names = [\"Darcy\", \"Badon Ghijben\", \"Herzberg\"]\n",
    "for i, last_name in enumerate(last_names):\n",
    "    print(first_names[i], last_name)"
   ]
  },
  {
   "cell_type": "markdown",
   "id": "46345ae4",
   "metadata": {},
   "source": [
    "Another handy function to accomplish the same result is `zip`, which allows you to iterate over multiple lists at once"
   ]
  },
  {
   "cell_type": "code",
   "execution_count": null,
   "id": "47baf067",
   "metadata": {
    "hideCode": false,
    "hidePrompt": false
   },
   "outputs": [],
   "source": [
    "first_names = [\"Henry\", \"Willem\", \"Alexander\"]\n",
    "last_names = [\"Darcy\", \"Badon Ghijben\", \"Herzberg\"]\n",
    "for first_name, last_name in zip(first_names, last_names):\n",
    "    print(first_name, last_name)"
   ]
  },
  {
   "cell_type": "markdown",
   "id": "ad56ad10",
   "metadata": {},
   "source": [
    "It is also possible to loop over the elements in a dictionary"
   ]
  },
  {
   "cell_type": "code",
   "execution_count": null,
   "id": "47e55e7b",
   "metadata": {},
   "outputs": [],
   "source": [
    "for key, value in river_lengths.items():\n",
    "    print(\"The length of the\", key, \"river is\", value, \"km\")"
   ]
  },
  {
   "cell_type": "markdown",
   "id": "2ca532d1",
   "metadata": {},
   "source": [
    "***Exercise 1.4***: Create a `for` loop to convert the river lengths from kilometres to miles (one mile is 1.60934 km)"
   ]
  },
  {
   "cell_type": "code",
   "execution_count": null,
   "id": "b485ecff",
   "metadata": {},
   "outputs": [],
   "source": [
    "# Type your code here"
   ]
  },
  {
   "cell_type": "markdown",
   "id": "5471effb",
   "metadata": {
    "hideCode": false,
    "hidePrompt": false
   },
   "source": [
    "### If statements\n",
    "Conditional statements (also called `if` statements) can be used to control the flow of the program depending on whether or not certain conditions are met. Just like with the `for` loop, a colon must be typed at the end of the line starting with `if`, and the lines that must be executed if the evaluated condition is true must be indented. There is no specific command to end the `if` statement, as with `for` loops it is inferred from the indentation.\n",
    "\n",
    "In the next code cell, it is checked if the list `alist` actually contains elements by calling the `len` function (this comes in handy in real programs where a list is generated during runtime and may have a variable number of items, including none when no item got added to it). This function returns the number of items, being zero when the list is empty. If this is the case, the `if` statement causes a message to be printed to the screen"
   ]
  },
  {
   "cell_type": "code",
   "execution_count": null,
   "id": "8ac47147",
   "metadata": {
    "hideCode": false,
    "hidePrompt": false
   },
   "outputs": [],
   "source": [
    "alist = [] # Defines an empty list\n",
    "if len(alist) == 0:\n",
    "    print (\"alist contains no elements\")"
   ]
  },
  {
   "cell_type": "markdown",
   "id": "f4a8fd3a",
   "metadata": {
    "hideCode": false,
    "hidePrompt": false
   },
   "source": [
    "Note that a double equal sign is used for the comparison (since a single equal sign is reserved for value assignment). Other comparison operators in Python include the following (note that the comparisons return a boolean variable type, which can be printed to the screen)"
   ]
  },
  {
   "cell_type": "code",
   "execution_count": null,
   "id": "9c943285",
   "metadata": {
    "hideCode": false,
    "hidePrompt": false
   },
   "outputs": [],
   "source": [
    "a = 4\n",
    "print(a <= 4) # a is smaller than or equal to 4\n",
    "print(a == 4) # a is equal to 4.\n",
    "print(a >= 4) # a is larger than or equal to 4\n",
    "print(a != 4) # a is not equal to 4"
   ]
  },
  {
   "cell_type": "markdown",
   "id": "3d9a68c2",
   "metadata": {
    "hideCode": false,
    "hidePrompt": false
   },
   "source": [
    "Conditions can be compounded with the `and` or `or` statements, with parentheses for readability"
   ]
  },
  {
   "cell_type": "code",
   "execution_count": null,
   "id": "b8a3e0e4",
   "metadata": {
    "hideCode": false,
    "hidePrompt": false
   },
   "outputs": [],
   "source": [
    "a = 7\n",
    "if (a > 3) and (a < 8):\n",
    "    print('The value of a is', a)\n",
    "    print('Second line')\n",
    "    \n",
    "print('This is not printed until after the if statement')"
   ]
  },
  {
   "cell_type": "markdown",
   "id": "99db98f1",
   "metadata": {
    "hideCode": false,
    "hidePrompt": false
   },
   "source": [
    "In the following code example, the `if` statement is placed inside a `for` loop to determine what message is printed to the screen. The message varies according to the value of the loop variable `i`. The `if` statement now also includes the `elif` and `else` commands (note how the indentation works), which specify what needs to happen depending on whether a condition is met or not. "
   ]
  },
  {
   "cell_type": "code",
   "execution_count": null,
   "id": "e94afd6e",
   "metadata": {
    "hideCode": false,
    "hidePrompt": false,
    "scrolled": true
   },
   "outputs": [],
   "source": [
    "for i in range(-3, 3):\n",
    "    if i < 0:\n",
    "        print(i, 'is negative')\n",
    "    elif i == 0:\n",
    "        print(i, 'is zero')\n",
    "    else:\n",
    "        print(i, 'is positive')"
   ]
  },
  {
   "cell_type": "markdown",
   "id": "8b9b397c",
   "metadata": {
    "hideCode": false,
    "hidePrompt": false
   },
   "source": [
    "It is possible to break out of a `for` loop when a certain condition is met using the `break` statement. The following code finds the largest squared integer below 200"
   ]
  },
  {
   "cell_type": "code",
   "execution_count": null,
   "id": "5931e844",
   "metadata": {
    "hideCode": false,
    "hidePrompt": false
   },
   "outputs": [],
   "source": [
    "for x in range(20):\n",
    "    if (x ** 2 > 200):\n",
    "        break\n",
    "print(f'The largest integer square below 200 is: {(x - 1) ** 2}')\n",
    "print(x - 1)"
   ]
  },
  {
   "cell_type": "markdown",
   "id": "5e0441a4",
   "metadata": {
    "hideCode": false,
    "hidePrompt": false
   },
   "source": [
    "The `continue` statement can be used to skip the execution of the code in a `for` loop. The following example prints the names of two engineers famous for their contribution to coastal hydrogeology, but excludes another famous person"
   ]
  },
  {
   "cell_type": "code",
   "execution_count": null,
   "id": "013033f7",
   "metadata": {
    "hideCode": false,
    "hidePrompt": false
   },
   "outputs": [],
   "source": [
    "famous_hydros = [\"Badon Ghijben\", \"Darcy\", \"Herzberg\"]\n",
    "for name in famous_hydros:\n",
    "    if (name == \"Darcy\"):\n",
    "        continue\n",
    "    print(name, \"investigated coastal aquifers\")"
   ]
  },
  {
   "cell_type": "markdown",
   "id": "b677fd62",
   "metadata": {},
   "source": [
    "### List comprehension\n",
    "\n",
    "Finally, let's have a look at a list creation method that is know as list comprehension. It provides a compact way to create a `list`. The code example below illustrates the syntax. First a list with values is defined, some of which are negative. Suppose we're interested in picking only the negative values from the list. It is possible to write a for loop with a conditional statement using a few lines of code to do this (try it if you like). The alternative method of list comprehension, however, allows you to combine this into a single line. As you can see the `for` and `if` statements are enclosed with in the square brackets. The `for` loop steps over each of the elements in `values` and with each step value of `v` changes. The `ìf` statement ensures that `v` is only added to the new list (called `negative_values`) when `v` is less than zero."
   ]
  },
  {
   "cell_type": "code",
   "execution_count": null,
   "id": "4ef38276",
   "metadata": {},
   "outputs": [],
   "source": [
    "values = [0, -1, 2, 4, 26, -2, 10, -1.5]\n",
    "negative_values = [v for v in values if v < 0]\n",
    "negative_values"
   ]
  },
  {
   "cell_type": "markdown",
   "id": "deb98c46",
   "metadata": {},
   "source": [
    "***Exercise 1.5 (homework)***: Create a `for` loop to determine the name of the river in the `river_lengths` dictionary that has the greatest length. Print both the name and the length in kilometer to the screen."
   ]
  },
  {
   "cell_type": "code",
   "execution_count": null,
   "id": "f23f3bd0",
   "metadata": {},
   "outputs": [],
   "source": [
    "# Type your code here"
   ]
  },
  {
   "cell_type": "markdown",
   "id": "b9f3da77",
   "metadata": {},
   "source": [
    "***Exercise 1.6 (homework)***: Use list comprehension to store the square of all whole numbers between 1 and 10 in a list, except for the number 3."
   ]
  },
  {
   "cell_type": "code",
   "execution_count": null,
   "id": "c875e0d1",
   "metadata": {},
   "outputs": [],
   "source": [
    "# Type your code here"
   ]
  }
 ],
 "metadata": {
  "celltoolbar": "Tags",
  "hide_code_all_hidden": false,
  "kernelspec": {
   "display_name": "Python 3",
   "language": "python",
   "name": "python3"
  },
  "language_info": {
   "codemirror_mode": {
    "name": "ipython",
    "version": 3
   },
   "file_extension": ".py",
   "mimetype": "text/x-python",
   "name": "python",
   "nbconvert_exporter": "python",
   "pygments_lexer": "ipython3",
   "version": "3.11.4"
  },
  "latex_envs": {
   "LaTeX_envs_menu_present": true,
   "autoclose": false,
   "autocomplete": true,
   "bibliofile": "biblio.bib",
   "cite_by": "apalike",
   "current_citInitial": 1,
   "eqLabelWithNumbers": true,
   "eqNumInitial": 1,
   "hotkeys": {
    "equation": "Ctrl-E",
    "itemize": "Ctrl-I"
   },
   "labels_anchors": false,
   "latex_user_defs": false,
   "report_style_numbering": false,
   "user_envs_cfg": false
  },
  "name": "_merged_merged_merged"
 },
 "nbformat": 4,
 "nbformat_minor": 5
}
